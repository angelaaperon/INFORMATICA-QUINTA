{
  "cells": [
    {
      "cell_type": "markdown",
      "metadata": {
        "id": "HB3XbPDcSqe1"
      },
      "source": [
        "# Esercizi IF"
      ]
    },
    {
      "cell_type": "code",
      "execution_count": 2,
      "metadata": {
        "id": "0U7L9A29RfeT"
      },
      "outputs": [
        {
          "name": "stdout",
          "output_type": "stream",
          "text": [
            "IL NUMERO E' PARI\n"
          ]
        }
      ],
      "source": [
        "# Es 4.1: Ottenere dall'utente un numero in input e scrivere a schermo \"Pari\" se il numero è pari, scrivere \"Dispari\" altrimenti\n",
        "x = int(input())   \n",
        "if x%2 == 0:\n",
        "    print(\"IL NUMERO E' PARI\")\n",
        "\n",
        "else:\n",
        "    print(\"IL NUMERO E' DISPARI\")"
      ]
    },
    {
      "cell_type": "code",
      "execution_count": 1,
      "metadata": {
        "id": "gE3RVr9ORuwP"
      },
      "outputs": [
        {
          "name": "stdout",
          "output_type": "stream",
          "text": [
            "È UN TRIANGOLO\n"
          ]
        }
      ],
      "source": [
        "# Es 4.2: Ottenere dall'utente tre angoli caso siano i tre angoli di un triangolo scrivere a schermo \"È un triangolo\", altrimenti \"Non è un triangolo\"\n",
        "x = float(input(\"INSERISCI IL PRIMO ANGOLO DEL TRIANGOLO: \"))\n",
        "y = float(input(\"INSERISCI IL SECONDO ANGOLO DEL TRIANGOLO: \"))\n",
        "z = float(input(\"INSERISCI IL TERZO ANGOLO DEL TRIANGOLO: \"))\n",
        "\n",
        "if x+y+z == 180 and x>0 and y>0 and z>0:\n",
        "    print(\"È UN TRIANGOLO\")\n",
        "\n",
        "else:\n",
        "    print(\"NON  UN TRIANGOLO\")"
      ]
    },
    {
      "cell_type": "code",
      "execution_count": 46,
      "metadata": {
        "id": "r1A_DavcSKgi"
      },
      "outputs": [
        {
          "name": "stdout",
          "output_type": "stream",
          "text": [
            "NON È UN TRIANGOLO, RIPROVACI :(\n"
          ]
        }
      ],
      "source": [
        "# Es 4.3: Ottenuti dall'utente tre angoli di un tringolo scrivere a schermo se i tre angoli descrivono un triangolo rettangolo o no\n",
        "x = float(input(\"INSERISCI IL PRIMO ANGOLO DEL TRIANGOLO: \"))\n",
        "y = float(input(\"INSERISCI IL SECONDO ANGOLO DEL TRIANGOLO: \"))\n",
        "z = float(input(\"INSERISCI IL TERZO ANGOLO DEL TRIANGOLO: \"))\n",
        "\n",
        "if x + y + z == 180 and x > 0 and y > 0 and z > 0:\n",
        "    \n",
        "    if x == 90 or y == 90 or z == 90:\n",
        "        print(\"IL TRIANGOLO È RETTANGOLO, EVVIVAAA!\")\n",
        "\n",
        "    else:\n",
        "        print(\"È UN TRIANGOLO, MA NON È RETTANGOLO, MI DISPIACE :(\")\n",
        "\n",
        "else:\n",
        "    print(\"NON È UN TRIANGOLO, RIPROVACI :(\")\n"
      ]
    },
    {
      "cell_type": "code",
      "execution_count": 53,
      "metadata": {
        "id": "iA9D4X_GSims"
      },
      "outputs": [
        {
          "name": "stdout",
          "output_type": "stream",
          "text": [
            "È UN TRIANGOLO, MA SCALENO\n"
          ]
        }
      ],
      "source": [
        "# Es 4.4: Ottenuti dall'utente tre angoli di un tringolo scrivere a schermo se i tre angoli descrivono un triangolo equilatero o no\n",
        "# Aggiunto da parte mia un controllo anche se è scaleno e rettangolo, per aiutarmi direttamente nell'esercizio '4.6', spero vada bene comuque :)\n",
        "\n",
        "x = float(input(\"INSERISCI IL PRIMO ANGOLO DEL TRIANGOLO: \"))\n",
        "y = float(input(\"INSERISCI IL SECONDO ANGOLO DEL TRIANGOLO: \"))\n",
        "z = float(input(\"INSERISCI IL TERZO ANGOLO DEL TRIANGOLO: \"))\n",
        "\n",
        "if x + y + z == 180 and x > 0 and y > 0 and z > 0:\n",
        "    \n",
        "    if x == y and y == z and z == 60:\n",
        "        print(\"IL TRIANGOLO È EQUILATERO, EVVIVAAA!\")\n",
        "\n",
        "        if x == 90 or y == 90 or z == 90:\n",
        "            print(\"IL TRIANGOLO È RETTANGOLO, EVVIVAAA!\")\n",
        "\n",
        "    else:\n",
        "        print(\"È UN TRIANGOLO, MA SCALENO\")\n",
        "\n",
        "else:\n",
        "    print(\"NON È UN TRIANGOLO, RIPROVACI LA PROSSIMA VOLTA UTENTE :(\")\n",
        "\n",
        " "
      ]
    },
    {
      "cell_type": "code",
      "execution_count": 56,
      "metadata": {
        "id": "8q4gadoTSU7J"
      },
      "outputs": [
        {
          "name": "stdout",
          "output_type": "stream",
          "text": [
            "QUESTO NON È UN TRIANGOLO, MI DISPIACE UTENTE, RIPROVACI UN'ALTRA VOLTA :(\n"
          ]
        }
      ],
      "source": [
        "# Es 4.5: Ottenuti dall'utente tre angoli di un tringolo scrivere a schermo se i tre angoli descrivono un triangolo isocele o no\n",
        "\n",
        "x = float(input(\"INSERISCI IL PRIMO ANGOLO DEL TRIANGOLO: \"))\n",
        "y = float(input(\"INSERISCI IL SECONDO ANGOLO DEL TRIANGOLO: \"))\n",
        "z = float(input(\"INSERISCI IL TERZO ANGOLO DEL TRIANGOLO: \"))\n",
        "\n",
        "if x + y + z == 180 and x > 0 and y > 0 and z > 0:\n",
        "\n",
        "    if x == y or y == z or z == x:\n",
        "        print(\"QUESTO È UN TRIANGOLO ISOSCELE!\")\n",
        "\n",
        "    else:\n",
        "        print(\"QUESTO È UN TRIANGOLO, MA NON È ISOSCELE, MI DISPIACE :(\")\n",
        "\n",
        "else:\n",
        "    print(\"QUESTO NON È UN TRIANGOLO, MI DISPIACE UTENTE, RIPROVACI UN'ALTRA VOLTA :(\")"
      ]
    },
    {
      "cell_type": "code",
      "execution_count": 65,
      "metadata": {
        "id": "yVIE2kK3SYlq"
      },
      "outputs": [
        {
          "name": "stdout",
          "output_type": "stream",
          "text": [
            "NON È UN TRIANGOLO, RIPROVACI LA PROSSIMA VOLTA UTENTE :(\n"
          ]
        }
      ],
      "source": [
        "# Es 4.6: Ottenuti dall'utente tre angoli di un tringolo scrivere a schermo se i tre angoli descrivono un triangolo isocele, rettagolo, equilatero o scaleno\n",
        "\n",
        "x = float(input(\"INSERISCI IL PRIMO ANGOLO DEL TRIANGOLO: \"))\n",
        "y = float(input(\"INSERISCI IL SECONDO ANGOLO DEL TRIANGOLO:\"))\n",
        "z = float(input(\"INSERISCI IL TERZO ANGOLO DEL TRIANGOLO: \"))\n",
        "\n",
        "if x + y + z == 180 and x > 0 and y > 0 and z > 0:\n",
        "    \n",
        "    if x == y and y == z and z == 60:\n",
        "        print(\"IL TRIANGOLO È EQUILATERO, EVVIVAAA!\")\n",
        "\n",
        "    if x == 90 or y == 90 or z == 90:\n",
        "            print(\"IL TRIANGOLO È RETTANGOLO, EVVIVAAA!\")\n",
        "\n",
        "    if x == y or y == z or z == x:\n",
        "            print(\"QUESTO È UN TRIANGOLO ISOSCELE!\")\n",
        "\n",
        "    if x != y and y != z and z != x:\n",
        "            print(\"È UN TRIANGOLO SCALENO\")\n",
        "\n",
        "else:\n",
        "    print(\"NON È UN TRIANGOLO, RIPROVACI LA PROSSIMA VOLTA UTENTE :(\")\n"
      ]
    },
    {
      "cell_type": "markdown",
      "metadata": {
        "id": "ef5snVxLqeQh"
      },
      "source": [
        "# Esercizi WHILE\n"
      ]
    },
    {
      "cell_type": "code",
      "execution_count": null,
      "metadata": {},
      "outputs": [],
      "source": []
    },
    {
      "cell_type": "code",
      "execution_count": 69,
      "metadata": {
        "id": "j61RqiHxqdmh"
      },
      "outputs": [
        {
          "name": "stdout",
          "output_type": "stream",
          "text": [
            "CIAO BELLE PERSONE :)\n",
            "CIAO BELLE PERSONE :)\n",
            "CIAO BELLE PERSONE :)\n",
            "CIAO BELLE PERSONE :)\n",
            "CIAO BELLE PERSONE :)\n",
            "CIAO BELLE PERSONE :)\n",
            "CIAO BELLE PERSONE :)\n",
            "CIAO BELLE PERSONE :)\n",
            "CIAO BELLE PERSONE :)\n"
          ]
        }
      ],
      "source": [
        "# Es 4.7: Creare una funzione print_n(n,v) che stampi n volte il. contenuto di v\n",
        "n = int(input(\"INSERISCI IL NUMERO DI VOLTE CHE VUOI STAMPARE LA STRINGA:\"))\n",
        "v = \"CIAO BELLE PERSONE :)\" #STRINGA DA IMPOSTARE A PIACERE DALL'UTENTE\n",
        "\n",
        "def print_n(n , v):\n",
        "    c = 0\n",
        "    \n",
        "    while c < n:\n",
        "        print(v)\n",
        "        c += 1\n",
        "        \n",
        "print_n(n, v)"
      ]
    },
    {
      "cell_type": "code",
      "execution_count": 73,
      "metadata": {
        "colab": {
          "base_uri": "https://localhost:8080/"
        },
        "id": "-6lAm-hfq9w9",
        "outputId": "399e82ba-3cfe-475f-f8df-0e156677ec75"
      },
      "outputs": [
        {
          "name": "stdout",
          "output_type": "stream",
          "text": [
            "90 È DIVISIBILE PER 1\n",
            "90 È DIVISIBILE PER 2\n",
            "90 È DIVISIBILE PER 3\n",
            "90 È DIVISIBILE PER 5\n",
            "90 È DIVISIBILE PER 6\n",
            "90 È DIVISIBILE PER 9\n",
            "90 È DIVISIBILE PER 10\n",
            "90 È DIVISIBILE PER 15\n",
            "90 È DIVISIBILE PER 18\n",
            "90 È DIVISIBILE PER 30\n",
            "90 È DIVISIBILE PER 45\n",
            "90 È DIVISIBILE PER 90\n"
          ]
        }
      ],
      "source": [
        "# Es 4.8: Inserito il numero n dire per quali numeri, compresi tra 1 e n, è divisibile.\n",
        "# Inserisco 10: stampo 1,2,5\n",
        "# Inserisco 7: stampo 1\n",
        "\n",
        "n = int(input(\"INSERISCI IL NUMERO INTERO DI CUI VUOI TROVARE I DIVISORI:\"))\n",
        "c = 1\n",
        "\n",
        "while c <= n:\n",
        "\n",
        "    if n % c == 0:\n",
        "        print(f\"{n} È DIVISIBILE PER {c}\") #ho cercato un metodo di formattazione per rendere il programma più ordinato e ho trovato che il comando 'f' serve proprio a mandare a capo\n",
        "    \n",
        "    c += 1\n"
      ]
    },
    {
      "cell_type": "code",
      "execution_count": 74,
      "metadata": {
        "colab": {
          "base_uri": "https://localhost:8080/"
        },
        "id": "GjC4LdR7rP-b",
        "outputId": "9f539b4d-c307-479a-da13-610a7e1cc46e"
      },
      "outputs": [
        {
          "name": "stdout",
          "output_type": "stream",
          "text": [
            " IL NUMERO 7, INSERITO DA TASTIERA, È PRIMO\n"
          ]
        }
      ],
      "source": [
        "# Es 4.9: Inserito il numero n dire se è primo o no\n",
        "\n",
        "n = int(input(\"INSERIRE UN NUMERO INTERO POSITIVO PER VEDERE SE È PRIMO O NO: \"))\n",
        "\n",
        "if n <= 1:\n",
        "    n_primo = False\n",
        "\n",
        "else:\n",
        "    n_primo = True\n",
        "    divisori_tot = 2\n",
        "\n",
        "    while divisori_tot * divisori_tot <= n:\n",
        "\n",
        "        if n % divisori_tot == 0:\n",
        "            \n",
        "            n_primo = False\n",
        "            break\n",
        "\n",
        "        divisori_tot += 1\n",
        "\n",
        "if n_primo:\n",
        "    print(f\" IL NUMERO {n}, INSERITO DA TASTIERA, È PRIMO\")\n",
        "\n",
        "else:\n",
        "    print(f\" IL NUMERO {n}, INSERITO DA TASTIERA, NON È PRIMO\")\n",
        "\n"
      ]
    },
    {
      "cell_type": "code",
      "execution_count": 78,
      "metadata": {
        "colab": {
          "base_uri": "https://localhost:8080/"
        },
        "id": "CxtWnOdHsTv4",
        "outputId": "5d874410-cb07-46a2-9c22-83d541b7a91a"
      },
      "outputs": [],
      "source": [
        "# Es 4.10: Creare la funzione moltiplica che restituisce il prodotto tra due numeri senza utilizzare *\n",
        "# 3*4 è uguale a 4+4+4\n",
        "a = int(input(\"INSERISCI IL PRIMO NUMERO CHE VUOI MOLTIPLICARE:\"))\n",
        "b = int(input(\"INSERISCI IL SECONDO NUMERO CHE VUOI MOLTIPLICARE:\"))\n",
        "\n",
        "def moltiplica(a, b):\n",
        "\n",
        "    risultato = 0\n",
        "    i = 0\n",
        "\n",
        "    while i < b:\n",
        "\n",
        "        risultato += a\n",
        "        i += 1\n",
        "\n",
        "    if b < 0:\n",
        "        risultato = -risultato\n",
        "\n",
        "    return risultato\n",
        "\n",
        "risultato = moltiplica(a, b)\n",
        "print(f\"{a} * {b} = {risultato}\")\n",
        "\n"
      ]
    }
  ],
  "metadata": {
    "colab": {
      "provenance": []
    },
    "kernelspec": {
      "display_name": "Python 3",
      "name": "python3"
    },
    "language_info": {
      "codemirror_mode": {
        "name": "ipython",
        "version": 3
      },
      "file_extension": ".py",
      "mimetype": "text/x-python",
      "name": "python",
      "nbconvert_exporter": "python",
      "pygments_lexer": "ipython3",
      "version": "3.10.8"
    }
  },
  "nbformat": 4,
  "nbformat_minor": 0
}
