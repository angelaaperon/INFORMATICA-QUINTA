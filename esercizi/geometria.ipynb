{
  "cells": [
    {
      "cell_type": "markdown",
      "metadata": {
        "id": "HB3XbPDcSqe1"
      },
      "source": [
        "# Esercizi Geometrici"
      ]
    },
    {
      "cell_type": "markdown",
      "metadata": {
        "id": "LCcywn6v2KxD"
      },
      "source": [
        "In Python per stampare consecutivamente più parole senza creare una riga per ognuna bisogna usare il seguente codice:\n"
      ]
    },
    {
      "cell_type": "code",
      "execution_count": 8,
      "metadata": {
        "colab": {
          "base_uri": "https://localhost:8080/"
        },
        "id": "PHdyo8E42sza",
        "outputId": "fb51a75d-54ef-48c3-f6ad-342834d2738b"
      },
      "outputs": [
        {
          "name": "stdout",
          "output_type": "stream",
          "text": [
            "Parola 1 Parola 2.\n",
            "Parola 3\n"
          ]
        }
      ],
      "source": [
        "print(\"Parola 1\", end=\" \")\n",
        "print(\"Parola 2\", end=\".\\n\")\n",
        "print(\"Parola 3\")"
      ]
    },
    {
      "cell_type": "code",
      "execution_count": 7,
      "metadata": {
        "colab": {
          "base_uri": "https://localhost:8080/"
        },
        "id": "0U7L9A29RfeT",
        "outputId": "ccdd9b72-55df-486a-a68d-cfe73e90461d"
      },
      "outputs": [
        {
          "name": "stdout",
          "output_type": "stream",
          "text": [
            "INSERISCI IL LATO DEL QUADRATO: \n",
            "* * * * * * * \n",
            "* * * * * * * \n",
            "* * * * * * * \n",
            "* * * * * * * \n",
            "* * * * * * * \n",
            "* * * * * * * \n",
            "* * * * * * * \n"
          ]
        }
      ],
      "source": [
        "# Es 6.1: Scrivi la funzione quadrato(n) che stampi a schermo un quadrato di lato nxn formato utilizzando il carattere *\n",
        "#         Esempio:    3 ->  * * *       4 ->  * * * *\n",
        "#                           * * *             * * * *\n",
        "#                           * * *             * * * *\n",
        "#                                             * * * *\n",
        "\n",
        "def quadrato(n):\n",
        "    \n",
        "    for _ in range(n):\n",
        "    \n",
        "        for _ in range(n):\n",
        "    \n",
        "            print(\"*\", end = \" \")\n",
        "    \n",
        "        print()\n",
        "\n",
        "\n",
        "print(\"INSERISCI IL LATO DEL QUADRATO: \")\n",
        "n = int(input())\n",
        "quadrato(n)\n"
      ]
    },
    {
      "cell_type": "code",
      "execution_count": 13,
      "metadata": {
        "id": "gE3RVr9ORuwP"
      },
      "outputs": [
        {
          "name": "stdout",
          "output_type": "stream",
          "text": [
            "INSERISCI IL LATO MINORE DEL RETTANGOLO, IL MAGIORE SARA' 2 * L:\n",
            "* * * * * * * * * * \n",
            "* * * * * * * * * * \n",
            "* * * * * * * * * * \n",
            "* * * * * * * * * * \n",
            "* * * * * * * * * * \n"
          ]
        }
      ],
      "source": [
        "# Es 6.2: Scrivi la funzione rettangolo(n) che stampi a schermo un rettangolo di lato nx2n formato utilizzando il carattere *\n",
        "#         Esempio:    3 ->  * * * * * *         4 ->  * * * * * * * *\n",
        "#                           * * * * * *               * * * * * * * *\n",
        "#                           * * * * * *               * * * * * * * *\n",
        "#                                                     * * * * * * * *\n",
        "\n",
        "def rettangolo(n):\n",
        "\n",
        "    for _ in range (n):\n",
        "    \n",
        "        for _ in range(2 * n):\n",
        "    \n",
        "            print(\"*\", end= \" \")\n",
        "    \n",
        "        print()\n",
        "\n",
        "\n",
        "print(\"INSERISCI IL LATO MINORE DEL RETTANGOLO, IL MAGIORE SARA' 2 * L:\")\n",
        "n = int(input())    \n",
        "rettangolo(n)"
      ]
    },
    {
      "cell_type": "code",
      "execution_count": 15,
      "metadata": {
        "id": "r1A_DavcSKgi"
      },
      "outputs": [
        {
          "name": "stdout",
          "output_type": "stream",
          "text": [
            "INSERISCI L'ALTEZZA DEL TRIANGOLO RETTANGOLO:\n",
            "* \n",
            "* * \n",
            "* * * \n",
            "* * * * \n",
            "* * * * * \n",
            "* * * * * * \n",
            "* * * * * * * \n"
          ]
        }
      ],
      "source": [
        "# Es 6.3: Scrivi la funzione triangolo_rettangolo(n) che stampi a schermo un triangolo di cateti n e n formato utilizzando il carattere *\n",
        "#         Esempio:    3 ->  *           4 ->  *\n",
        "#                           * *               * *\n",
        "#                           * * *             * * *\n",
        "#                                             * * * *\n",
        "\n",
        "def triangolo_rettangolo(n):\n",
        "\n",
        "    for i in range(n):\n",
        "    \n",
        "        for _ in range(i+1):\n",
        "    \n",
        "            print(\"*\", end=\" \")\n",
        "    \n",
        "        print()\n",
        "    \n",
        "        \n",
        "print(\"INSERISCI L'ALTEZZA DEL TRIANGOLO RETTANGOLO:\")\n",
        "n=int(input())\n",
        "triangolo_rettangolo(n)"
      ]
    },
    {
      "cell_type": "code",
      "execution_count": 7,
      "metadata": {
        "id": "iA9D4X_GSims"
      },
      "outputs": [
        {
          "name": "stdout",
          "output_type": "stream",
          "text": [
            "INSERISCI LE DIMENSIONI DEL LATO DEL QUADRATO VUOTO: \n",
            "* * * * * * * * \n",
            "*             * \n",
            "*             * \n",
            "*             * \n",
            "*             * \n",
            "*             * \n",
            "*             * \n",
            "* * * * * * * * \n"
          ]
        }
      ],
      "source": [
        "# Es 6.4: Scrivi la funzione bordo_quadrato(n) che stampi a schermo un quadrato di lato nxn formato utilizzando il carattere * come contorno\n",
        "#         Esempio:    3 ->  * * *       4 ->  * * * *\n",
        "#                           *   *             *     *\n",
        "#                           * * *             *     *\n",
        "#                                             * * * *\n",
        "\n",
        "def bordo_quadrato(n):\n",
        "\n",
        "    for i in range(n):\n",
        "    \n",
        "        for j in range(n):\n",
        "    \n",
        "            if i==0 or i==n-1 or j==0 or j==n-1:\n",
        "    \n",
        "                print(\"*\", end=\" \")\n",
        "    \n",
        "            else:\n",
        "    \n",
        "                print(\" \", end=\" \")\n",
        "    \n",
        "        print()\n",
        "\n",
        "\n",
        "print(\"INSERISCI LE DIMENSIONI DEL LATO DEL QUADRATO VUOTO: \")\n",
        "n=int(input())\n",
        "bordo_quadrato(n)"
      ]
    },
    {
      "cell_type": "code",
      "execution_count": 4,
      "metadata": {
        "colab": {
          "base_uri": "https://localhost:8080/"
        },
        "id": "1vlDMqo_4uNc",
        "outputId": "de4cc1b2-7110-4ad6-b86c-d67c5756c074"
      },
      "outputs": [
        {
          "name": "stdout",
          "output_type": "stream",
          "text": [
            "INSERISCI LA DIMENSIONE DEL LATO DEL QUADRATO:\n",
            "/ - - - - - \\ \n",
            "|           | \n",
            "|           | \n",
            "|           | \n",
            "|           | \n",
            "|           | \n",
            "\\ - - - - - /\n",
            "\n"
          ]
        }
      ],
      "source": [
        "# Es 6.5: Scrivi la funzione bordo_quadrato_bello(n) che stampi a schermo un quadrato di lato nxn formato utilizzando iseguenti caratteri:\n",
        "#         Esempio:    3 ->  / - \\       4 ->  / - - \\\n",
        "#                           |   |             |     |\n",
        "#                           \\ - /             |     |\n",
        "#                                             \\ - - /\n",
        "# Per stampare \\ dovete utilizzare \"\\\\\" ovvero print(\"\\\\\")\n",
        "def bordo_quadrato_bello(n):\n",
        "\n",
        "    for i in range(n):\n",
        "\n",
        "        for j in range(n):\n",
        "\n",
        "            if i == 0:\n",
        "\n",
        "                if j == 0:\n",
        "\n",
        "                    print(\"/\",end = \" \")\n",
        "\n",
        "                else:\n",
        "\n",
        "                    if j == n - 1:\n",
        "\n",
        "                        print(\"\\ \", end = \"\")\n",
        "\n",
        "                    else:\n",
        "\n",
        "                        print(\"-\", end = \" \")\n",
        "            else:\n",
        "\n",
        "                if i == n - 1:\n",
        "\n",
        "                    if j == 0:\n",
        "\n",
        "                        print(\"\\ \", end = \"\")\n",
        "\n",
        "                    else:\n",
        "\n",
        "                        if j == n - 1:\n",
        "\n",
        "                            print(\"/\")\n",
        "\n",
        "                        else:\n",
        "\n",
        "                            print(\"-\", end = \" \")\n",
        "\n",
        "                else:\n",
        "\n",
        "                    if j == 0 or j == n - 1:\n",
        "\n",
        "                        print(\"|\", end = \" \")\n",
        "\n",
        "                    else:\n",
        "\n",
        "                        print(\" \", end = \" \")\n",
        "\n",
        "        print()\n",
        "\n",
        "print(\"INSERISCI LA DIMENSIONE DEL LATO DEL QUADRATO:\")\n",
        "n = int(input())\n",
        "bordo_quadrato_bello(n)"
      ]
    },
    {
      "cell_type": "code",
      "execution_count": 3,
      "metadata": {
        "id": "2E9Hk9kkv5Mx"
      },
      "outputs": [
        {
          "name": "stdout",
          "output_type": "stream",
          "text": [
            "INSERISCI LE DIMENSIONI DEL TRIANGOLO: \n",
            "   /\\\n",
            "  /  \\\n",
            " /    \\\n",
            "/      \\\n",
            "|______|\n"
          ]
        }
      ],
      "source": [
        "# Es 6.6: Scrivi la funzione trianglo_bello(n) che stampi a schermo un triangolo di cateti 'n' e 'n' formato utilizzando i seguenti caratteri:\n",
        "#.   ^\\\n",
        "#    | \\\n",
        "#.   |  \\\n",
        "#.   |___\\\n",
        "\n",
        "def triangolo_bello(n):\n",
        "\n",
        "    for i in range(n):\n",
        "\n",
        "        for j in range(n - i - 1):\n",
        "            \n",
        "            print(\" \", end=\"\")\n",
        "\n",
        "        print(\"/\", end=\"\")\n",
        "\n",
        "        for j in range(i * 2):\n",
        "\n",
        "            print(\" \", end=\"\")\n",
        "\n",
        "        print(\"\\\\\")\n",
        "    \n",
        "    print(\"|\", end=\"\")\n",
        "\n",
        "    for i in range(n * 2 - 2):\n",
        "\n",
        "        print(\"_\", end=\"\")\n",
        "    \n",
        "    print(\"|\")\n",
        "\n",
        "print(\"INSERISCI LE DIMENSIONI DEL TRIANGOLO: \")\n",
        "n=int(input())\n",
        "triangolo_bello(n)"
      ]
    }
  ],
  "metadata": {
    "colab": {
      "provenance": []
    },
    "kernelspec": {
      "display_name": "Python 3",
      "name": "python3"
    },
    "language_info": {
      "codemirror_mode": {
        "name": "ipython",
        "version": 3
      },
      "file_extension": ".py",
      "mimetype": "text/x-python",
      "name": "python",
      "nbconvert_exporter": "python",
      "pygments_lexer": "ipython3",
      "version": "3.10.8"
    }
  },
  "nbformat": 4,
  "nbformat_minor": 0
}
